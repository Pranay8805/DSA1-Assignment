{
 "cells": [
  {
   "cell_type": "code",
   "execution_count": 8,
   "id": "c72e82eb",
   "metadata": {},
   "outputs": [
    {
     "name": "stdout",
     "output_type": "stream",
     "text": [
      "[[5, 7], [7, 5], [3, 9]]\n"
     ]
    }
   ],
   "source": [
    "#1.Write a program to find all pairs of an integer array whose sum is equal to a given number?\n",
    "arr=[5,7,3,9,4,5]\n",
    "target_no=12\n",
    "pair_array=[]\n",
    "for i in range(len(arr)-1):\n",
    "    for j in range(i+1,len(arr)):\n",
    "        sum=arr[i]+arr[j]\n",
    "        if sum == target_no:\n",
    "            pair_array.append([arr[i],arr[j]])\n",
    "            \n",
    "        \n",
    "print(pair_array)"
   ]
  },
  {
   "cell_type": "code",
   "execution_count": 10,
   "id": "d6a200d9",
   "metadata": {},
   "outputs": [
    {
     "name": "stdout",
     "output_type": "stream",
     "text": [
      "[4, 8, 7, 3, 5, 1, 2]\n"
     ]
    }
   ],
   "source": [
    "#2.Write a program to reverse an array in place? In place means you cannot create a new array. You have to update the original array.\n",
    "arr=[2,1,5,3,7,8,4] #6\n",
    "arr.reverse()\n",
    "print(arr)"
   ]
  },
  {
   "cell_type": "code",
   "execution_count": 18,
   "id": "37dbe940",
   "metadata": {},
   "outputs": [
    {
     "name": "stdout",
     "output_type": "stream",
     "text": [
      "enter a string 1:12344\n",
      "enter a string 2:12644\n",
      "no rotation\n"
     ]
    }
   ],
   "source": [
    "#3.Write a program to check if two strings are a rotation of each other?\n",
    "str1=input(\"enter a string 1:\")\n",
    "str2=input(\"enter a string 2:\")\n",
    "if len(str1) == len(str2):\n",
    "    temp=str1+str1\n",
    "    if str2 in temp:\n",
    "        print(\"rotation\")\n",
    "    else :\n",
    "        print(\"no rotation\")\n",
    "else :\n",
    "    print(\"no rotation \")"
   ]
  },
  {
   "cell_type": "code",
   "execution_count": 15,
   "id": "dc7e0e10",
   "metadata": {},
   "outputs": [
    {
     "name": "stdout",
     "output_type": "stream",
     "text": [
      "enter a string ssartgghjk\n",
      "First Non-repeated value is  a\n",
      "{'s': 1, 'a': 0, 'r': 0, 't': 0, 'g': 1, 'h': 0, 'j': 0, 'k': 0}\n"
     ]
    }
   ],
   "source": [
    "#4.Write a program to print the first non-repeated character from a string?\n",
    "str=input(\"enter a string \")\n",
    "#str=\"ssartgghjk\"\n",
    "count=0\n",
    "d={}\n",
    "for i in range(len(str)):\n",
    "    if str[i] in d.keys():\n",
    "        continue\n",
    "    for j in range(i+1,len(str),1):\n",
    "        if str[i] == str[j]:\n",
    "            #print(\"yes\",str[j])\n",
    "            count+=1\n",
    "    d[str[i]]=count\n",
    "    count=0\n",
    "\n",
    "for i in d:\n",
    "    if d[i]==0:\n",
    "        print(\"First Non-repeated value is \",i)\n",
    "        break\n",
    "    \n",
    "print(d)"
   ]
  },
  {
   "cell_type": "code",
   "execution_count": 37,
   "id": "d06d74aa",
   "metadata": {},
   "outputs": [
    {
     "name": "stdout",
     "output_type": "stream",
     "text": [
      "Successfully Added \n",
      "Successfully Added \n",
      "Successfully Added \n",
      "Successfully Added \n",
      "Successfully Added \n",
      "Successfully Added \n",
      "Successfully Added \n",
      "Successfully Added \n",
      "Successfully Added \n",
      "Successfully Added \n",
      "yes\n",
      "Prefix expression is = *-A/BC-/AKL\n"
     ]
    }
   ],
   "source": [
    "\n",
    "                    "
   ]
  },
  {
   "cell_type": "code",
   "execution_count": 48,
   "id": "16e3f69f",
   "metadata": {},
   "outputs": [
    {
     "name": "stdout",
     "output_type": "stream",
     "text": [
      "Successfully Added \n",
      "Successfully Added \n",
      "Successfully Added \n",
      "Successfully Added \n",
      "Successfully Added \n",
      "Successfully Added \n",
      "Successfully Added \n",
      "Successfully Added \n",
      "Successfully Added \n",
      "Successfully Added \n",
      "yes\n",
      "Prefix expression is = *-A/BC-/AKL\n"
     ]
    }
   ],
   "source": [
    "#Read about infix, prefix, and postfix expressions. Write a program to convert postfix to prefix expression.\n",
    "class stack:\n",
    "    def __init__(self):\n",
    "        self.stack=[]\n",
    "    def push(self,value):\n",
    "        self.stack.append(value)\n",
    "        print(\"stack is Added\")\n",
    "    def pop(self):\n",
    "        if len(self.stack)==0:\n",
    "            print(\"stack is empty\")\n",
    "            return\n",
    "        value=self.stack.pop()\n",
    "        return value\n",
    "    def peek(self):\n",
    "        if len(self.stack) == 0:\n",
    "            print(\"Stack is empty !!\")\n",
    "            return\n",
    "        return self.stack[len(self.stack)-1]\n",
    "    def  prefix_to_infix(self,exp): # EDC/BA*-+\n",
    "        exp=exp[::-1]\n",
    "        str=\"\"\n",
    "        for i in range(len(exp)):\n",
    "            \n",
    "            if i==len(exp)-1:          \n",
    "                while len(self.stack) != 0:\n",
    "                        value1=self.pop()\n",
    "                        value2=self.pop()\n",
    "                        #print(\"yes\")\n",
    "                        str=str+value1+exp[i]+value2\n",
    "                        return str\n",
    "        \n",
    "            elif exp[i].isalpha():\n",
    "                 self.push(exp[i])\n",
    "                \n",
    "            elif exp[i]=='/' or exp[i]=='+' or  exp[i]=='*' or exp[i]=='-':\n",
    "                 if len(self.stack)!=0:\n",
    "                    value1=self.pop()\n",
    "                    value2=self.pop()\n",
    "                    str=str+value1+exp[i]+value2\n",
    "                    self.push(str)\n",
    "                    str=\"\"\n",
    "         \n",
    "                \n",
    "\n",
    "obj=Stack()\n",
    "# POSTFIX TO PREFIX \n",
    "\n",
    "result=obj.postfix_to_prefix(\"ABC/-AK/L-*\")\n",
    "print(\"Prefix expression is =\",result)\n",
    "\n",
    "\n"
   ]
  },
  {
   "cell_type": "code",
   "execution_count": 50,
   "id": "483b3b7f",
   "metadata": {},
   "outputs": [
    {
     "name": "stdout",
     "output_type": "stream",
     "text": [
      "Successfully Added \n",
      "Successfully Added \n",
      "Successfully Added \n",
      "Successfully Added \n",
      "Successfully Added \n",
      "Successfully Added \n",
      "Successfully Added \n",
      "Successfully Added \n",
      "A*B-C/D+E\n"
     ]
    }
   ],
   "source": [
    "# Write a program to convert prefix expression to infix expression.\n",
    "class stack:\n",
    "    def __init__(self):\n",
    "        self.stack=[]\n",
    "    def push(self,value):\n",
    "        self.stack.append(value)\n",
    "        print(\"stack is Added\")\n",
    "    def pop(self):\n",
    "        if len(self.stack)==0:\n",
    "            print(\"stack is empty\")\n",
    "            return\n",
    "        value=self.stack.pop()\n",
    "        return value\n",
    "    def peek(self):\n",
    "        if len(self.stack) == 0:\n",
    "            print(\"Stack is empty !!\")\n",
    "            return\n",
    "        return self.stack[len(self.stack)-1]\n",
    "    def  prefix_to_infix(self,exp): # EDC/BA*-+\n",
    "        exp=exp[::-1]\n",
    "        str=\"\"\n",
    "        for i in range(len(exp)):\n",
    "            \n",
    "            if i==len(exp)-1:          \n",
    "                while len(self.stack) != 0:\n",
    "                        value1=self.pop()\n",
    "                        value2=self.pop()\n",
    "                        #print(\"yes\")\n",
    "                        str=str+value1+exp[i]+value2\n",
    "                        return str\n",
    "        \n",
    "            elif exp[i].isalpha():\n",
    "                 self.push(exp[i])\n",
    "                \n",
    "            elif exp[i]=='/' or exp[i]=='+' or  exp[i]=='*' or exp[i]=='-':\n",
    "                 if len(self.stack)!=0:\n",
    "                    value1=self.pop()\n",
    "                    value2=self.pop()\n",
    "                    str=str+value1+exp[i]+value2\n",
    "                    self.push(str)\n",
    "                    str=\"\"\n",
    "\n",
    "obj=Stack()                   \n",
    "# PREFIX TO INFIX\n",
    "print(obj.prefix_to_infix(\"+-*AB/CDE\"))\n",
    "\n"
   ]
  },
  {
   "cell_type": "code",
   "execution_count": 57,
   "id": "2e7a5004",
   "metadata": {},
   "outputs": [
    {
     "name": "stdout",
     "output_type": "stream",
     "text": [
      "Successfully Added \n",
      "Successfully Added \n",
      "Successfully Added \n",
      "Successfully Added \n",
      "Before Reverse [10, 20, 30, 40]\n",
      "After Reverse [40, 30, 20, 10]\n"
     ]
    }
   ],
   "source": [
    "# Write a program to reverse a stack.\n",
    "class Using_stack:\n",
    "    def __init__(self):\n",
    "        self.stack = []\n",
    "\n",
    "\n",
    "    def push(self,value):\n",
    "        self.stack.append(value)\n",
    "        print(\"Successfully Added \")\n",
    "\n",
    "    def pop(self):\n",
    "        if len(self.stack)==0:\n",
    "            print(\"Stack is empty !!\")\n",
    "            return\n",
    "        value=self.stack.pop()\n",
    "        return value\n",
    "\n",
    "    def peek(self):\n",
    "        if len(self.stack) == 0:\n",
    "            print(\"Stack is empty !!\")\n",
    "            return\n",
    "        return self.stack[len(self.stack)-1]\n",
    "\n",
    "    def reverse_a_stack(self):\n",
    "        temp=self.stack[::-1]\n",
    "        return temp\n",
    "    \n",
    "    \n",
    "        \n",
    "\n",
    "obj=Using_stack()\n",
    "obj.push(10)\n",
    "obj.push(20)\n",
    "obj.push(30)\n",
    "obj.push(40)\n",
    "print(f\"Before Reverse {obj.stack}\")\n",
    "print(f\"After Reverse {obj.reverse_a_stack()}\")\n",
    "\n"
   ]
  },
  {
   "cell_type": "code",
   "execution_count": 59,
   "id": "47cf3fa0",
   "metadata": {},
   "outputs": [
    {
     "name": "stdout",
     "output_type": "stream",
     "text": [
      "Successfully Added \n",
      "Successfully Added \n",
      "Successfully Added \n",
      "Successfully Added \n",
      "[10, 20, 30, 40]\n",
      "SMALLEST NUMBER IS  10\n"
     ]
    }
   ],
   "source": [
    "# Write a program to find the smallest number using a stack.\n",
    "class Using_stack:\n",
    "    def __init__(self):\n",
    "        self.stack = []\n",
    "\n",
    "\n",
    "    def push(self,value):\n",
    "        self.stack.append(value)\n",
    "        print(\"Successfully Added \")\n",
    "\n",
    "    def pop(self):\n",
    "        if len(self.stack)==0:\n",
    "            print(\"Stack is empty !!\")\n",
    "            return\n",
    "        value=self.stack.pop()\n",
    "        return value\n",
    "\n",
    "    def peek(self):\n",
    "        if len(self.stack) == 0:\n",
    "            print(\"Stack is empty !!\")\n",
    "            return\n",
    "        return self.stack[len(self.stack)-1]\n",
    "    def find_smallest_no(self):\n",
    "        min_value=999999\n",
    "        for i in range(len(self.stack)):\n",
    "            if self.stack[i] < min_value:\n",
    "                min_value=self.stack[i]\n",
    "        return min_value\n",
    "obj=Using_stack()\n",
    "obj.push(10)\n",
    "obj.push(20)\n",
    "obj.push(30)\n",
    "obj.push(40)\n",
    "print(f\"{obj.stack}\")\n",
    "print(f\"SMALLEST NUMBER IS  {obj.find_smallest_no()}\")\n",
    "\n",
    "        \n"
   ]
  },
  {
   "cell_type": "code",
   "execution_count": null,
   "id": "32c86123",
   "metadata": {},
   "outputs": [],
   "source": []
  }
 ],
 "metadata": {
  "kernelspec": {
   "display_name": "Python 3 (ipykernel)",
   "language": "python",
   "name": "python3"
  },
  "language_info": {
   "codemirror_mode": {
    "name": "ipython",
    "version": 3
   },
   "file_extension": ".py",
   "mimetype": "text/x-python",
   "name": "python",
   "nbconvert_exporter": "python",
   "pygments_lexer": "ipython3",
   "version": "3.10.5"
  }
 },
 "nbformat": 4,
 "nbformat_minor": 5
}
